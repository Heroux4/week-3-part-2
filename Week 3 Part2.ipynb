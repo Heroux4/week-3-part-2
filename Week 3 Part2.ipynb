{
  "metadata": {
    "kernelspec": {
      "name": "python",
      "display_name": "Python (Pyodide)",
      "language": "python"
    },
    "language_info": {
      "codemirror_mode": {
        "name": "python",
        "version": 3
      },
      "file_extension": ".py",
      "mimetype": "text/x-python",
      "name": "python",
      "nbconvert_exporter": "python",
      "pygments_lexer": "ipython3",
      "version": "3.8"
    }
  },
  "nbformat_minor": 4,
  "nbformat": 4,
  "cells": [
    {
      "cell_type": "code",
      "source": "# Importing necessary libraries\nfrom sklearn.model_selection import train_test_split\nfrom sklearn.neural_network import MLPClassifier\nfrom sklearn.metrics import accuracy_score, classification_report\nfrom sklearn.datasets import load_iris\n\n# Loading a dataset\ndata = load_iris()\nX = data.data  # Features\ny = data.target  # Labels\n\n# Splitting the dataset into training and testing sets (80% train, 20% test)\nX_train, X_test, y_train, y_test = train_test_split(X, y, test_size=0.2, random_state=42)\n\n# Initializing the MLPClassifier\nmlp = MLPClassifier(hidden_layer_sizes=(10,), max_iter=500, random_state=42, activation='relu')\n\n# Training the model on the training data\nmlp.fit(X_train, y_train)\n\n# Making predictions on the test data\ny_pred = mlp.predict(X_test)\n\n# Evaluating the model\naccuracy = accuracy_score(y_test, y_pred)\nprint(\"Accuracy:\", accuracy)\nprint(\"Classification Report:\\n\", classification_report(y_test, y_pred))\n",
      "metadata": {
        "trusted": true
      },
      "outputs": [
        {
          "name": "stderr",
          "text": "/lib/python3.12/site-packages/sklearn/neural_network/_multilayer_perceptron.py:691: ConvergenceWarning: Stochastic Optimizer: Maximum iterations (500) reached and the optimization hasn't converged yet.\n  warnings.warn(\n",
          "output_type": "stream"
        },
        {
          "name": "stdout",
          "text": "Accuracy: 0.9333333333333333\nClassification Report:\n               precision    recall  f1-score   support\n\n           0       1.00      1.00      1.00        10\n           1       1.00      0.78      0.88         9\n           2       0.85      1.00      0.92        11\n\n    accuracy                           0.93        30\n   macro avg       0.95      0.93      0.93        30\nweighted avg       0.94      0.93      0.93        30\n\n",
          "output_type": "stream"
        }
      ],
      "execution_count": 4
    },
    {
      "cell_type": "code",
      "source": "",
      "metadata": {
        "trusted": true
      },
      "outputs": [],
      "execution_count": null
    }
  ]
}